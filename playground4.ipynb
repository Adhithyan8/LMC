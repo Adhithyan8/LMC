{
 "cells": [
  {
   "attachments": {},
   "cell_type": "markdown",
   "metadata": {},
   "source": [
    "Lets start simple: 1 hidden layer networks trained on moons dataset"
   ]
  },
  {
   "cell_type": "code",
   "execution_count": 1,
   "metadata": {},
   "outputs": [],
   "source": [
    "import matplotlib.pyplot as plt\n",
    "import numpy as np\n",
    "import torch\n",
    "from scipy.cluster.hierarchy import leaves_list, linkage\n",
    "\n",
    "from architecture.MLP import FCNet, train\n",
    "from permute import permute_align\n",
    "from utils import (\n",
    "    evaluate,\n",
    "    interpolation_losses,\n",
    "    loss_barrier,\n",
    ")"
   ]
  },
  {
   "cell_type": "code",
   "execution_count": 2,
   "metadata": {},
   "outputs": [],
   "source": [
    "# Set the device\n",
    "device = torch.device(\"cuda\" if torch.cuda.is_available() else \"cpu\")\n",
    "\n",
    "# config\n",
    "widths = [4, 8, 16, 32, 128, 512]\n",
    "num_models = 50\n",
    "depth = 1\n",
    "epochs = 60\n",
    "\n",
    "#load data from data/moons.npz\n",
    "file = np.load(\"data/moons.npz\")\n",
    "X_train = file[\"X_train\"]\n",
    "y_train = file[\"y_train\"]\n",
    "X_test = file[\"X_test\"]\n",
    "y_test = file[\"y_test\"]\n",
    "\n",
    "# define train and test loaders\n",
    "train_loader = torch.utils.data.DataLoader(\n",
    "    torch.utils.data.TensorDataset(\n",
    "        torch.from_numpy(X_train).float(), torch.from_numpy(y_train).float()\n",
    "    ),\n",
    "    batch_size=256,\n",
    "    shuffle=True,\n",
    ")\n",
    "test_loader = torch.utils.data.DataLoader(\n",
    "    torch.utils.data.TensorDataset(\n",
    "        torch.from_numpy(X_test).float(), torch.from_numpy(y_test).float()\n",
    "    ),\n",
    "    batch_size=256,\n",
    "    shuffle=False,\n",
    ")\n"
   ]
  },
  {
   "cell_type": "code",
   "execution_count": 3,
   "metadata": {},
   "outputs": [
    {
     "data": {
      "text/plain": [
       "(512, 2)"
      ]
     },
     "execution_count": 3,
     "metadata": {},
     "output_type": "execute_result"
    }
   ],
   "source": [
    "for width in widths:\n",
    "    # data structure to store losses and accuracies\n",
    "    logs = np.zeros((num_models, 4))\n",
    "\n",
    "    # Define and train many models\n",
    "    models = []\n",
    "    for i in range(num_models):\n",
    "        model = FCNet(input_size=2, width=width, depth=depth, output_size=1)\n",
    "        train(\n",
    "            model,\n",
    "            train_loader,\n",
    "            epochs=epochs,\n",
    "            lr=0.001,\n",
    "            model_name=f\"moons/model_w{width}_{i}\",\n",
    "        )\n",
    "        models.append(model)\n",
    "\n",
    "        # evaluate\n",
    "        model.eval()\n",
    "\n",
    "        train_loss, train_acc = evaluate(model, train_loader)\n",
    "        test_loss, test_acc = evaluate(model, test_loader)\n",
    "\n",
    "        logs[i, 0] = train_loss\n",
    "        logs[i, 1] = test_loss\n",
    "        logs[i, 2] = train_acc\n",
    "        logs[i, 3] = test_acc\n",
    "\n",
    "        # save the logs\n",
    "        np.save(f\"logs/moons/logs_w{width}\", logs)"
   ]
  }
 ],
 "metadata": {
  "kernelspec": {
   "display_name": "Python 3",
   "language": "python",
   "name": "python3"
  },
  "language_info": {
   "codemirror_mode": {
    "name": "ipython",
    "version": 3
   },
   "file_extension": ".py",
   "mimetype": "text/x-python",
   "name": "python",
   "nbconvert_exporter": "python",
   "pygments_lexer": "ipython3",
   "version": "3.9.13"
  },
  "orig_nbformat": 4
 },
 "nbformat": 4,
 "nbformat_minor": 2
}
